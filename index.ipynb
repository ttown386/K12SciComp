{
 "cells": [
  {
   "cell_type": "markdown",
   "metadata": {},
   "source": [
    "# Resources for Coding in K12 Science\n",
    "### Straight up coding\n",
    "- This [simple math activity](./cs/Simple_math_activity.ipynb) is 5-minute intro to Python and Jupyter. If you're brand new to all this, start here.\n",
    "- Learn more about computer programming, loops, and functions with [Python Basics](./cs/Python_Basics.ipynb).\n",
    "- We even have one that looks at [word frequency in a classic text](./other/Word_frequency.ipynb).\n",
    "\n",
    "### Coding in science class\n",
    "- [Analyze 1D motion](./sci/Motion_analysis.ipynb) or use this [template for lab data analysis](./sci/Data_analysis_template.ipynb)\n",
    "- [Plot USGS data on earthquakes around the globe](./sci/USGS_quakes.ipynb)\n",
    "- [Analyze data from CERN's CMS detector](./sci/CMS_massplot.ipynb)\n",
    "- [Analyze global climate data from NASA's](./sci/NASA_global_temp.ipynb)\n",
    "\n",
    "### Using this in your classroom\n",
    "- [How to create, post, and share your own activities with your students](https://docs.google.com/document/d/1meQsFtU8gH6q81qUEHI9ivDBDgT_UxtAGGa7Oa3N1AE/edit?usp=sharing)"
   ]
  },
  {
   "cell_type": "markdown",
   "metadata": {},
   "source": [
    ">*Back to [adamlamee.com](http://www.adamlamee.com)*"
   ]
  }
 ],
 "metadata": {
  "kernelspec": {
   "display_name": "Python 3",
   "language": "python",
   "name": "python3"
  },
  "language_info": {
   "codemirror_mode": {
    "name": "ipython",
    "version": 3
   },
   "file_extension": ".py",
   "mimetype": "text/x-python",
   "name": "python",
   "nbconvert_exporter": "python",
   "pygments_lexer": "ipython3",
   "version": "3.5.1"
  }
 },
 "nbformat": 4,
 "nbformat_minor": 0
}
