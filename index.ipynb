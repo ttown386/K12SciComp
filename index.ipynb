{
 "cells": [
  {
   "cell_type": "markdown",
   "metadata": {},
   "source": [
    "# Resources for Coding in K12 Science\n",
    "These resources are geared for teachers to use with their students as-is or freely-modify. My background is high school science teaching and I think science class is one of the best places to expose students to computer programming. Have a question or want to contribute? Send me an email at adamlamee@gmail.com.\n",
    "## The Technology\n",
    "\n",
    "### Python\n",
    "Python is a programming language that's among the easiest to learn, widely used in research and industry, and can handle serious tasks. For coding with K12 students, this has become the fairly clear favorite. If you're already familiar with another language (e.g., C, Java), Jupyter can work with those, too.\n",
    "### Jupyter\n",
    "Jupyter notebooks include formatted text, links, and images along with code which can be run section-by-section or all at once. Jupyter natively support over 40 programming languages and it’s free. More info at [Project Jupyter](http://jupyter.org/).\n",
    "### Binder\n",
    "We use Binder to make these Jupyter notebooks accessible online and interactive. What does Binder do? [Here’s a how-to]().\n",
    "\n",
    "To edit and run these Binder-shared notebooks, you only need a browser. No Jupyter or compiler install is necessary. It even runs on mobile devices. Consider a class of high school students, each doing their own Higgs analysis of LHC data from their phones. Pretty cool, huh?\n",
    "\n",
    "## Student activities\n",
    "### Straight up coding\n",
    "- This [simple math activity](./cs/Simple_math_activity.ipynb) is 5-minute intro to Python and Jupyter.\n",
    "- Learn more about computer programming, loops, and functions with [Python Basics](./cs/Python_Basics.ipynb).\n",
    "\n",
    "### Coding and science\n",
    "- [Analyze 1D motion](./sci/Motion_analysis.ipynb) or use this [template for lab data analysis](./sci/Data_analysis_template.ipynb)\n",
    "- [Plot USGS data on earthquakes around the globe](./sci/USGS_quakes.ipynb)\n",
    "- [Analyze data from CERN's CMS detector](./sci/CMS_massplot.ipynb)\n",
    "- [Analyze global climate data from NASA's](./sci/NASA_global_temp.ipynb)\n",
    "\n",
    "### Using this in your classroom\n",
    "- [How to create, post, and share your own activities with your students](https://docs.google.com/document/d/1meQsFtU8gH6q81qUEHI9ivDBDgT_UxtAGGa7Oa3N1AE/edit?usp=sharing)"
   ]
  }
 ],
 "metadata": {
  "kernelspec": {
   "display_name": "Python 3",
   "language": "python",
   "name": "python3"
  },
  "language_info": {
   "codemirror_mode": {
    "name": "ipython",
    "version": 3
   },
   "file_extension": ".py",
   "mimetype": "text/x-python",
   "name": "python",
   "nbconvert_exporter": "python",
   "pygments_lexer": "ipython3",
   "version": "3.5.1"
  }
 },
 "nbformat": 4,
 "nbformat_minor": 0
}
