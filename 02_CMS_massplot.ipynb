{
 "cells": [
  {
   "cell_type": "markdown",
   "metadata": {},
   "source": [
    "# Creating a mass plot from CERN OpenData\n",
    "This is a Jupyter notebook and it allows us to type text, format it with headings and links, and have separate cells for code. You can click the \"play\" icon above to run a highlighted cell and go on to the next one. The really cool thing is you can edit the code and run it again to see how the output changed.\n",
    "\n",
    "In this example, we'll import some detector data and make a plot of the masses of the particles detected. To begin, click on this cell, then click the \"play\" icon to run each cell and see the output."
   ]
  },
  {
   "cell_type": "code",
   "execution_count": null,
   "metadata": {
    "collapsed": true
   },
   "outputs": [],
   "source": [
    "# First, we'll \"import\" the software packages needed.\n",
    "import pandas\n",
    "import numpy\n",
    "%matplotlib inline\n",
    "import matplotlib.pyplot as plt\n",
    "\n",
    "# Starting a line with a hashtag tells the program not to read the line.\n",
    "# That way we can write \"comments\" to humans trying to figure out what the code does.\n",
    "# Blank lines don't do anything either, but they can make the code easier to read."
   ]
  },
  {
   "cell_type": "markdown",
   "metadata": {},
   "source": [
    "## Importing a data set\n",
    "Now let's choose some data to plot. In this example we'll pull data from CERN's CMS detector and make a histogram of invariant mass. You can find more at CERN OpenData\n",
    "\n",
    "This next cell will take a little while to run since it's grabbing a pretty big data set. This one contains 100,000 collision events. The cell label will look like \"In [\\*]\" while it's still thinking and \"In [2]\" when it's finished."
   ]
  },
  {
   "cell_type": "code",
   "execution_count": null,
   "metadata": {
    "collapsed": false
   },
   "outputs": [],
   "source": [
    "# Whenever you type \"something =\" it defines a new variable, \"something\", \n",
    "# and sets it equal to whatever follows the equals sign. That could be a number, \n",
    "# another variable, or in this case an entire table of numbers.\n",
    "dataset = pandas.read_csv('http://opendata.cern.ch/record/303/files/dimuon.csv')\n",
    "\n",
    "# Analyze dielectron data instead by referencing instead:\n",
    "# http://opendata.cern.ch/record/304/files/dielectron.csv"
   ]
  },
  {
   "cell_type": "markdown",
   "metadata": {},
   "source": [
    "We can view the first few rows of the file we just imported."
   ]
  },
  {
   "cell_type": "code",
   "execution_count": null,
   "metadata": {
    "collapsed": false
   },
   "outputs": [],
   "source": [
    "# The .head(n) command displays the first n rows of the file.\n",
    "dataset.head(5)"
   ]
  },
  {
   "cell_type": "markdown",
   "metadata": {},
   "source": [
    "## Plotting a histogram"
   ]
  },
  {
   "cell_type": "code",
   "execution_count": null,
   "metadata": {
    "collapsed": false
   },
   "outputs": [],
   "source": [
    "# Create variables for histogram parameters\n",
    "mass = dataset.M\n",
    "nbins = 50\n",
    "xmin = 30\n",
    "xmax = 120\n",
    "\n",
    "# Calculate the source data (a frequency table) for the histogram\n",
    "mass_plot = numpy.histogram(mass, bins=nbins, range=(xmin, xmax))\n",
    "\n",
    "# Formatting how the histogram will display the frequency data.\n",
    "hist, bins = mass_plot\n",
    "width = 1.0*(bins[1] - bins[0])\n",
    "center = (bins[:-1] + bins[1:]) / 2\n",
    "\n",
    "plt.bar(center, hist, align='center', width=width,  color='k', linewidth=1, edgecolor='g')\n",
    "plt.xlim(xmin, xmax)\n",
    "plt.xlabel('invariant mass (GeV)')\n",
    "plt.ylabel('number of events')\n",
    "\n",
    "# This actually shows the histogram\n",
    "plt.show()"
   ]
  },
  {
   "cell_type": "markdown",
   "metadata": {},
   "source": [
    "You can find more information on how numpy makes histograms [here](http://docs.scipy.org/doc/numpy-1.10.1/reference/generated/numpy.histogram.html).\n",
    "\n",
    "## Modify and re-plot\n",
    "If we're looking for particles that decay into a pair of oppositely-charged particle, we'll need to filter events with two like-charge products."
   ]
  },
  {
   "cell_type": "code",
   "execution_count": null,
   "metadata": {
    "collapsed": false
   },
   "outputs": [],
   "source": [
    "oppQ_events = dataset[dataset.Q1 != dataset.Q2]\n",
    "oppQ_mass = oppQ_events['M']\n",
    "\n",
    "mass_plot = numpy.histogram(oppQ_mass, bins=nbins, range=(xmin, xmax))\n",
    "\n",
    "hist, bins = mass_plot\n",
    "width = 1.0*(bins[1] - bins[0])\n",
    "center = (bins[:-1] + bins[1:]) / 2\n",
    "\n",
    "# Formatting the histogram\n",
    "plt.bar(center, hist, align='center', width=width,  color='k', linewidth=1, edgecolor='g')\n",
    "plt.xlim(xmin, xmax)\n",
    "plt.xlabel('invariant mass (GeV)')\n",
    "plt.ylabel('number of events')\n",
    "\n",
    "# This actually shows the histogram\n",
    "plt.show()"
   ]
  },
  {
   "cell_type": "markdown",
   "metadata": {
    "collapsed": true
   },
   "source": [
    "And now you've made a mass plot! Try editing some code and re-running the cell to see the effects. For more information on formatting the markdown text in a cell like this one, go to Help > Markdown > Basic Writing and Formatting Text.\n",
    "\n",
    "To save your work: go to File > Save and Checkpoint. That only saves your edits as long as you're working inthis notebook. All is lost after 10 minutes of inactivity.\n",
    "\n",
    "To really save your work: go to File > Download as > iPython notebook (or save as pdf if you just want to show someone a snapshot of what your code and output look like."
   ]
  }
 ],
 "metadata": {
  "kernelspec": {
   "display_name": "Python 3",
   "language": "python",
   "name": "python3"
  },
  "language_info": {
   "codemirror_mode": {
    "name": "ipython",
    "version": 3
   },
   "file_extension": ".py",
   "mimetype": "text/x-python",
   "name": "python",
   "nbconvert_exporter": "python",
   "pygments_lexer": "ipython3",
   "version": "3.5.1"
  }
 },
 "nbformat": 4,
 "nbformat_minor": 0
}
