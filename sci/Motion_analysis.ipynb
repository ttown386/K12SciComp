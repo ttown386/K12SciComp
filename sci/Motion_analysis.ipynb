{
 "cells": [
  {
   "cell_type": "markdown",
   "metadata": {},
   "source": [
    "# Motion Analysis\n",
    "In this example, you'll analyze the 1-D motion of an object. Don't be afraid to run code without knowing what every line does. A great way to learn is to:\n",
    "- run some code\n",
    "- see what it does\n",
    "- edit it\n",
    "- see what changed\n",
    "\n",
    "Programmers often begin with a working program, then edit/modify it to do what they want. "
   ]
  },
  {
   "cell_type": "code",
   "execution_count": null,
   "metadata": {
    "collapsed": true
   },
   "outputs": [],
   "source": [
    "# First, we'll \"import\" the software packages needed.\n",
    "import pandas as pd\n",
    "import numpy as np\n",
    "%matplotlib inline\n",
    "import matplotlib as mpl\n",
    "import matplotlib.pyplot as plt\n",
    "inline_rc = dict(mpl.rcParams)\n",
    "\n",
    "# Starting a line with a hashtag tells the program not to read the line.\n",
    "# That way we can write \"comments\" to humans trying to figure out what the code does.\n",
    "# Blank lines don't do anything either, but they can make the code easier to read."
   ]
  },
  {
   "cell_type": "markdown",
   "metadata": {},
   "source": [
    "## Raw data"
   ]
  },
  {
   "cell_type": "code",
   "execution_count": null,
   "metadata": {
    "collapsed": false
   },
   "outputs": [],
   "source": [
    "# Whenever you type \"something =\" it defines a new variable, \"something\", \n",
    "# and sets it equal to whatever follows the equals sign. That could be a number, \n",
    "# another variable, or in this case an entire table of numbers.\n",
    "\n",
    "# enter raw data\n",
    "data = pd.DataFrame.from_items([\n",
    "        ('time (s)', [0,1,2,3]), \n",
    "        ('position (m)', [0,2,4,6])\n",
    "        ])\n",
    "# display data table\n",
    "data"
   ]
  },
  {
   "cell_type": "markdown",
   "metadata": {},
   "source": [
    "## Plotting the data"
   ]
  },
  {
   "cell_type": "code",
   "execution_count": null,
   "metadata": {
    "collapsed": false
   },
   "outputs": [],
   "source": [
    "# set variables = data['column label']\n",
    "time = data['time (s)']\n",
    "pos = data['position (m)']\n",
    "\n",
    "# Uncomment the next line to make it look like a graph from xkcd.com\n",
    "# plt.xkcd()\n",
    "# to make normal-looking plots again execute:\n",
    "# mpl.rcParams.update(inline_rc)\n",
    "\n",
    "# this makes a scatterplot of the data\n",
    "# plt.scatter(x values, y values)\n",
    "plt.scatter(time, pos)\n",
    "plt.title(\"Constant Speed?\")\n",
    "plt.xlabel(\"Time (s)\")\n",
    "plt.ylabel(\"Position (m)\")\n",
    "plt.autoscale(tight=True)\n",
    "\n",
    "# calculate a trendline equation\n",
    "# np.polyfit( x values, y values, polynomial order)\n",
    "trend = np.polyfit(time, pos, 1)\n",
    "\n",
    "# plot trendline\n",
    "# plt.plot(x values, y values, other parameters)\n",
    "plt.plot(time, np.poly1d(trend)(time), label='trendline')\n",
    "plt.legend(loc='upper left')"
   ]
  },
  {
   "cell_type": "code",
   "execution_count": null,
   "metadata": {
    "collapsed": false
   },
   "outputs": [],
   "source": [
    "# display the trendline's coefficients (slope, y-int)\n",
    "trend"
   ]
  },
  {
   "cell_type": "markdown",
   "metadata": {},
   "source": [
    "## Calculate and plot velocity"
   ]
  },
  {
   "cell_type": "code",
   "execution_count": null,
   "metadata": {
    "collapsed": false
   },
   "outputs": [],
   "source": [
    "# create a new empty column\n",
    "data['velocity (m/s)'] = ''\n",
    "data"
   ]
  },
  {
   "cell_type": "code",
   "execution_count": null,
   "metadata": {
    "collapsed": false
   },
   "outputs": [],
   "source": [
    "# np.diff() calculates the difference between a value and the one after it\n",
    "vel = np.diff(pos) / np.diff(time)\n",
    "\n",
    "# fill the velocity column with values from the formula\n",
    "data['velocity (m/s)'] = pd.DataFrame.from_items([('', vel)])\n",
    "\n",
    "# display the data table\n",
    "data"
   ]
  },
  {
   "cell_type": "code",
   "execution_count": null,
   "metadata": {
    "collapsed": false
   },
   "outputs": [],
   "source": [
    "# That last velocity value will cause problems for further coding\n",
    "# Make a new table using only rows 0 through 2\n",
    "data2 = data.loc[0:2,['time (s)', 'velocity (m/s)']]\n",
    "data2"
   ]
  },
  {
   "cell_type": "code",
   "execution_count": null,
   "metadata": {
    "collapsed": false
   },
   "outputs": [],
   "source": [
    "# set new variables to plot\n",
    "time2 = data2['time (s)']\n",
    "vel2 = data2['velocity (m/s)']\n",
    "\n",
    "\n",
    "# plot data just like before\n",
    "plt.scatter(time2, vel2)\n",
    "plt.title(\"Constant Speed?\")\n",
    "plt.xlabel(\"Time (s)\")\n",
    "plt.ylabel(\"Velocity (m)\")\n",
    "plt.autoscale(tight=True)\n",
    "\n",
    "# calculate trendline equation like before\n",
    "trend2 = np.polyfit(time2, vel2, 1)\n",
    "\n",
    "# plot trendline like before\n",
    "plt.plot(time2, np.poly1d(trend2)(time2), label='trendline')\n",
    "plt.legend(loc='lower left')"
   ]
  },
  {
   "cell_type": "code",
   "execution_count": null,
   "metadata": {
    "collapsed": false
   },
   "outputs": [],
   "source": [
    "# display the trendline's coefficients (slope, y-int)\n",
    "trend2"
   ]
  },
  {
   "cell_type": "markdown",
   "metadata": {
    "collapsed": true
   },
   "source": [
    "# Part Two\n",
    "Choose one of the following:\n",
    "- Mess with the data: edit the original raw data to add more data points and vary them slightly to make it appear like realistic measurements of constant speed motion.\n",
    "- Constant a: edit/add to the raw data to represent an object moving with constant acceleration.\n",
    "- More math: create new cells below and add an \"acceleration\" collumn to the data table, then plot it."
   ]
  },
  {
   "cell_type": "code",
   "execution_count": null,
   "metadata": {
    "collapsed": true
   },
   "outputs": [],
   "source": []
  },
  {
   "cell_type": "markdown",
   "metadata": {},
   "source": [
    "## Save Your Work\n",
    "\n",
    "Download this notebook and upload it to your GitHub. Need a refresher? [Find instructions here](https://drive.google.com/open?id=1GszC6t8K9gSKdR-cigtoxaHK8V1IL_K2PXo5L87Z9xo)."
   ]
  }
 ],
 "metadata": {
  "kernelspec": {
   "display_name": "Python 3",
   "language": "python",
   "name": "python3"
  },
  "language_info": {
   "codemirror_mode": {
    "name": "ipython",
    "version": 3
   },
   "file_extension": ".py",
   "mimetype": "text/x-python",
   "name": "python",
   "nbconvert_exporter": "python",
   "pygments_lexer": "ipython3",
   "version": "3.5.1"
  }
 },
 "nbformat": 4,
 "nbformat_minor": 0
}
