{
 "cells": [
  {
   "cell_type": "markdown",
   "metadata": {},
   "source": [
    "# Data Analysis Template\n",
    "This notebook is a template for data analysis and includes some useful code for calculations and plotting."
   ]
  },
  {
   "cell_type": "code",
   "execution_count": null,
   "metadata": {
    "collapsed": true
   },
   "outputs": [],
   "source": [
    "# import software packages\n",
    "import pandas as pd\n",
    "import numpy as np\n",
    "%matplotlib inline\n",
    "import matplotlib as mpl\n",
    "import matplotlib.pyplot as plt\n",
    "inline_rc = dict(mpl.rcParams)"
   ]
  },
  {
   "cell_type": "markdown",
   "metadata": {},
   "source": [
    "## Raw data\n",
    "This is an example of making a data table."
   ]
  },
  {
   "cell_type": "code",
   "execution_count": null,
   "metadata": {
    "collapsed": false
   },
   "outputs": [],
   "source": [
    "# enter column labels and raw data (with same # of values)\n",
    "table1 = pd.DataFrame.from_items([\n",
    "        ('column1', [0,1,2,3]), \n",
    "        ('column2', [0,2,4,6])\n",
    "        ])\n",
    "# display data table\n",
    "table1"
   ]
  },
  {
   "cell_type": "markdown",
   "metadata": {},
   "source": [
    "## Plotting"
   ]
  },
  {
   "cell_type": "code",
   "execution_count": null,
   "metadata": {
    "collapsed": false
   },
   "outputs": [],
   "source": [
    "# Uncomment the next line to make your graphs look like xkcd.com\n",
    "#plt.xkcd()\n",
    "\n",
    "# to make normal-looking plots again execute:\n",
    "#mpl.rcParams.update(inline_rc)"
   ]
  },
  {
   "cell_type": "code",
   "execution_count": null,
   "metadata": {
    "collapsed": false
   },
   "outputs": [],
   "source": [
    "# set variables = data['column label']\n",
    "x = table1['column1']\n",
    "y = table1['column2']\n",
    "\n",
    "# this makes a scatterplot of the data\n",
    "# plt.scatter(x values, y values)\n",
    "plt.scatter(x, y)\n",
    "plt.title(\"?\")\n",
    "plt.xlabel(\"?\")\n",
    "plt.ylabel(\"?\")\n",
    "plt.autoscale(tight=True)\n",
    "\n",
    "# calculate a trendline equation\n",
    "# np.polyfit( x values, y values, polynomial order)\n",
    "trend1 = np.polyfit(x, y, 1)\n",
    "\n",
    "# plot trendline\n",
    "# plt.plot(x values, y values, other parameters)\n",
    "plt.plot(x, np.poly1d(trend1)(x), label='trendline')\n",
    "plt.legend(loc='upper left')"
   ]
  },
  {
   "cell_type": "code",
   "execution_count": null,
   "metadata": {
    "collapsed": false
   },
   "outputs": [],
   "source": [
    "# display the trendline's coefficients (slope, y-int)\n",
    "trend1"
   ]
  },
  {
   "cell_type": "markdown",
   "metadata": {},
   "source": [
    "## Do calculations with the data"
   ]
  },
  {
   "cell_type": "code",
   "execution_count": null,
   "metadata": {
    "collapsed": false
   },
   "outputs": [],
   "source": [
    "# create a new empty column\n",
    "table1['column3'] = ''\n",
    "table1"
   ]
  },
  {
   "cell_type": "markdown",
   "metadata": {},
   "source": [
    "Here's an example of calculating the difference between the values in column 2:"
   ]
  },
  {
   "cell_type": "code",
   "execution_count": null,
   "metadata": {
    "collapsed": false
   },
   "outputs": [],
   "source": [
    "# np.diff() calculates the difference between a value and the one after it\n",
    "z = np.diff(x)\n",
    "\n",
    "# fill column 3 with values from the formula (z) above:\n",
    "table1['column3'] = pd.DataFrame.from_items([('', z)])\n",
    "\n",
    "# display the data table\n",
    "table1"
   ]
  },
  {
   "cell_type": "code",
   "execution_count": null,
   "metadata": {
    "collapsed": false
   },
   "outputs": [],
   "source": [
    "# NaN and Inf values cause problems with math and plotting.\n",
    "# Make a new table using only selected rows and columns\n",
    "table2 = table1.loc[0:2,['column1', 'column2', 'column3']] # this keeps rows 0 through 2\n",
    "table2"
   ]
  },
  {
   "cell_type": "code",
   "execution_count": null,
   "metadata": {
    "collapsed": false
   },
   "outputs": [],
   "source": [
    "# set new variables to plot\n",
    "x2 = table2['column1']\n",
    "y2 = table2['column3']"
   ]
  },
  {
   "cell_type": "markdown",
   "metadata": {
    "collapsed": true
   },
   "source": [
    "Now you can copy the code above to plot your new data table."
   ]
  },
  {
   "cell_type": "code",
   "execution_count": null,
   "metadata": {
    "collapsed": true
   },
   "outputs": [],
   "source": [
    "# code for plotting table2 can go here"
   ]
  }
 ],
 "metadata": {
  "kernelspec": {
   "display_name": "Python 3",
   "language": "python",
   "name": "python3"
  },
  "language_info": {
   "codemirror_mode": {
    "name": "ipython",
    "version": 3
   },
   "file_extension": ".py",
   "mimetype": "text/x-python",
   "name": "python",
   "nbconvert_exporter": "python",
   "pygments_lexer": "ipython3",
   "version": "3.5.1"
  }
 },
 "nbformat": 4,
 "nbformat_minor": 0
}
