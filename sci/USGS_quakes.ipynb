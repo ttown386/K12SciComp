{
 "cells": [
  {
   "cell_type": "markdown",
   "metadata": {},
   "source": [
    "#  Plotting Recent Earthquake Locations\n",
    "The U.S. Geological Survey (USGS) has raw data available online. More info at the [USGS earthquakes page](http://earthquake.usgs.gov/earthquakes/feed/v1.0/csv.php).\n",
    "\n",
    "This notebook was started by Physics teacher and Quarknet member Peter Apps, York Middle/High School, Retsof, NY."
   ]
  },
  {
   "cell_type": "code",
   "execution_count": null,
   "metadata": {
    "collapsed": true
   },
   "outputs": [],
   "source": [
    "#importing what we'll need\n",
    "import numpy as np\n",
    "import pandas as pd\n",
    "%matplotlib inline\n",
    "import matplotlib.pyplot as plt"
   ]
  },
  {
   "cell_type": "markdown",
   "metadata": {},
   "source": [
    "## Choose your data\n",
    "In the box below, uncomment one of the data sets by deleting the # at the beginning of the line. Here's the [full listing](http://earthquake.usgs.gov/earthquakes/feed/v1.0/csv.php) of the different data sets you can grab."
   ]
  },
  {
   "cell_type": "code",
   "execution_count": null,
   "metadata": {
    "collapsed": false
   },
   "outputs": [],
   "source": [
    "# Just earthquakes from the past hour\n",
    "#data = pd.read_csv(\"http://earthquake.usgs.gov/earthquakes/feed/v1.0/summary/all_hour.csv\")\n",
    "\n",
    "# All earthquake events in the last month\n",
    "data = pd.read_csv(\"http://earthquake.usgs.gov/earthquakes/feed/v1.0/summary/all_month.csv\")\n",
    "\n",
    "# Only large earthquakes (magnitude 4.5 or greater) in teh past month\n",
    "#data = pd.read_csv(\"http://earthquake.usgs.gov/earthquakes/feed/v1.0/summary/4.5_month.csv\")"
   ]
  },
  {
   "cell_type": "code",
   "execution_count": null,
   "metadata": {
    "collapsed": false
   },
   "outputs": [],
   "source": [
    "data.head(1)"
   ]
  },
  {
   "cell_type": "code",
   "execution_count": null,
   "metadata": {
    "collapsed": false
   },
   "outputs": [],
   "source": [
    "# Set variables for scatter plot\n",
    "x = data.longitude\n",
    "y = data.latitude\n",
    "\n",
    "plt.scatter(x,y)\n",
    "plt.title('Earthquakes around the world (last month)')\n",
    "plt.xlabel('Longitude')\n",
    "plt.ylabel('Latitude')\n",
    "\n",
    "# This actually shows the plot\n",
    "plt.show()"
   ]
  },
  {
   "cell_type": "markdown",
   "metadata": {},
   "source": [
    "Do you notice a pattern in the plot?\n",
    "\n",
    "## Run a new analysis\n",
    "You can edit the code, maybe grab a different data set, and run the program again by going to Kernel > Restart & Run All"
   ]
  }
 ],
 "metadata": {
  "anaconda-cloud": {},
  "kernelspec": {
   "display_name": "Python 3",
   "language": "python",
   "name": "python3"
  },
  "language_info": {
   "codemirror_mode": {
    "name": "ipython",
    "version": 3
   },
   "file_extension": ".py",
   "mimetype": "text/x-python",
   "name": "python",
   "nbconvert_exporter": "python",
   "pygments_lexer": "ipython3",
   "version": "3.5.1"
  }
 },
 "nbformat": 4,
 "nbformat_minor": 0
}
