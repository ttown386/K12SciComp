{
 "cells": [
  {
   "cell_type": "markdown",
   "metadata": {},
   "source": [
    "# Creating a mass plot from CERN OpenData\n",
    "\n",
    "In this example, we'll import some detector data and make a plot of the masses of the particles detected.\n",
    "\n",
    "To begin, click the \"play\" icon or press shift+ENTER to execute each cell."
   ]
  },
  {
   "cell_type": "code",
   "execution_count": null,
   "metadata": {
    "collapsed": true
   },
   "outputs": [],
   "source": [
    "# First, we'll \"import\" the software packages needed.\n",
    "import pandas as pd\n",
    "import numpy as np\n",
    "%matplotlib inline\n",
    "import matplotlib as mpl\n",
    "import matplotlib.pyplot as plt\n",
    "inline_rc = dict(mpl.rcParams)\n",
    "\n",
    "# Starting a line with a hashtag tells the program not to read the line.\n",
    "# That way we can write \"comments\" to humans trying to figure out what the code does.\n",
    "# Blank lines don't do anything either, but they can make the code easier to read."
   ]
  },
  {
   "cell_type": "markdown",
   "metadata": {},
   "source": [
    "## Importing a data set\n",
    "Now let's choose some data to plot. In this example we'll pull data from CERN's CMS detector and make a histogram of invariant mass. You can find more at CERN OpenData\n",
    "\n",
    "This next cell will take a little while to run since it's grabbing a pretty big data set. This one contains 100,000 collision events. The cell label will look like \"In [\\*]\" while it's still thinking and \"In [2]\" when it's finished."
   ]
  },
  {
   "cell_type": "code",
   "execution_count": null,
   "metadata": {
    "collapsed": false
   },
   "outputs": [],
   "source": [
    "# Whenever you type \"something =\" it defines a new variable, \"something\", \n",
    "# and sets it equal to whatever follows the equals sign. That could be a number, \n",
    "# another variable, or in this case an entire table of numbers.\n",
    "data = pd.read_csv('http://opendata.cern.ch/record/303/files/dimuon.csv')\n",
    "\n",
    "# Analyze dielectron data instead by referencing this URL:\n",
    "# http://opendata.cern.ch/record/304/files/dielectron.csv"
   ]
  },
  {
   "cell_type": "markdown",
   "metadata": {},
   "source": [
    "We can view the first few rows of the file we just imported."
   ]
  },
  {
   "cell_type": "code",
   "execution_count": null,
   "metadata": {
    "collapsed": false
   },
   "outputs": [],
   "source": [
    "# The .head(n) command displays the first n rows of the file.\n",
    "data.head(3)"
   ]
  },
  {
   "cell_type": "markdown",
   "metadata": {},
   "source": [
    "## Making a histogram\n",
    "CMS software calculated the invariant mass of a possible parent particle, based on the two particles' energies and momenta. It's in the last column, labeled \"M\". The code below makes a histogram of those mass values."
   ]
  },
  {
   "cell_type": "code",
   "execution_count": null,
   "metadata": {
    "collapsed": false
   },
   "outputs": [],
   "source": [
    "# adding a ; at the end of the next line will  \"suppress\" the text output of the histogram's frequency table\n",
    "plt.hist(data.M, bins=120, range=[0,120], log=True)\n",
    "plt.title(\"CMS Dimuon Mass Plot\")\n",
    "plt.xlabel(\"mass (GeV)\")\n",
    "plt.ylabel(\"number of events\")"
   ]
  },
  {
   "cell_type": "markdown",
   "metadata": {},
   "source": [
    "# Part Two\n",
    "Create a histogram to show the production of one of the following particles: [J/$\\Psi$](https://en.wikipedia.org/wiki/J/psi_meson), [Upsilon](https://en.wikipedia.org/wiki/Upsilon_meson) ($\\Upsilon$), or [Z](https://en.wikipedia.org/wiki/W_and_Z_bosons)."
   ]
  },
  {
   "cell_type": "code",
   "execution_count": null,
   "metadata": {
    "collapsed": true
   },
   "outputs": [],
   "source": []
  },
  {
   "cell_type": "markdown",
   "metadata": {},
   "source": [
    "# Part Three\n",
    "Try selecting a subset of the events to analyze. This is called \"applying cuts\" to your data. Below are a few commands you may find useful."
   ]
  },
  {
   "cell_type": "code",
   "execution_count": null,
   "metadata": {
    "collapsed": false
   },
   "outputs": [],
   "source": [
    "# create a new data set of only the events containing oppositely charges particles\n",
    "data2 = data[data.Q1 != data.Q2] # change != to == for same charge"
   ]
  },
  {
   "cell_type": "code",
   "execution_count": null,
   "metadata": {
    "collapsed": false
   },
   "outputs": [],
   "source": [
    "# create a new data set of only events in a certain mass range\n",
    "data3 = data[(data.M > 50) & (data.M < 80)] # this choses 50 to 80 GeV"
   ]
  },
  {
   "cell_type": "code",
   "execution_count": null,
   "metadata": {
    "collapsed": false
   },
   "outputs": [],
   "source": [
    "# make a scatterplot of two columns\n",
    "# plt.scatter(x_column, y_column, s=point_size, other parameters)\n",
    "plt.scatter(data.eta1, data.phi1, s=.001)"
   ]
  },
  {
   "cell_type": "code",
   "execution_count": null,
   "metadata": {
    "collapsed": false
   },
   "outputs": [],
   "source": [
    "# make your plots look like they're from xkcd.com\n",
    "plt.xkcd()\n",
    "\n",
    "# plt.hist can stack two histograms\n",
    "d1 = data[data.Q1 == data.Q2]\n",
    "d2 = data[data.Q1 != data.Q2]\n",
    "\n",
    "plt.hist([d1.M, d2.M], range=[2,5], stacked=True, label=[\"same Q\",\"opp Q\"], bins=20, log=True)\n",
    "plt.title(\"Cutting on net charge\")\n",
    "plt.xlabel(\"mass (GeV)\")\n",
    "plt.ylabel(\"log number of events\")\n",
    "plt.legend()"
   ]
  },
  {
   "cell_type": "code",
   "execution_count": null,
   "metadata": {
    "collapsed": true
   },
   "outputs": [],
   "source": [
    "# to make normal-looking plots again\n",
    "mpl.rcParams.update(inline_rc)"
   ]
  },
  {
   "cell_type": "markdown",
   "metadata": {
    "collapsed": true
   },
   "source": [
    "## Save Your Work\n",
    "\n",
    "Download this notebook and upload it to your GitHub. Need a refresher? [Find instructions here](https://drive.google.com/open?id=1GszC6t8K9gSKdR-cigtoxaHK8V1IL_K2PXo5L87Z9xo)."
   ]
  }
 ],
 "metadata": {
  "kernelspec": {
   "display_name": "Python 3",
   "language": "python",
   "name": "python3"
  },
  "language_info": {
   "codemirror_mode": {
    "name": "ipython",
    "version": 3
   },
   "file_extension": ".py",
   "mimetype": "text/x-python",
   "name": "python",
   "nbconvert_exporter": "python",
   "pygments_lexer": "ipython3",
   "version": "3.5.1"
  }
 },
 "nbformat": 4,
 "nbformat_minor": 0
}
